{
 "cells": [
  {
   "cell_type": "markdown",
   "metadata": {
    "collapsed": true,
    "pycharm": {
     "name": "#%% md\n"
    }
   },
   "source": [
    "# Python Initiation at BSidesSpfd 2019\n",
    "\n",
    "An **Opinionated** Introduction to the Python Programming Language\n",
    "\n",
    "By Spatcholla\n",
    "\n",
    "While we will be blazing through the materials contained here in one short setting it is really meant as a guide to take with you. To break. To explore. I use the word **initiation** in two fold. First, I want to welcome you the Python community; I have not met I finer group in my travels. Second, this the launch of a journey which around every bend is (frustration) an oppurtunity for learning and growth.\n",
    "\n",
    "My vesrion of the ansnyc_tcp_scan.py program used in this tutorial is based off of a fork of [0xpizza/async_tcp_scan.py](https://gist.github.com/0xpizza/dd5e005a0efeb1edfc939d3a409e22d9) by [emillynge/async_tcp_scan.py](https://gist.github.com/emillynge/1eee20e8429caece09774af7e5614d69)"
   ]
  },
  {
   "cell_type": "markdown",
   "metadata": {},
   "source": [
    "## Style"
   ]
  },
  {
   "cell_type": "markdown",
   "metadata": {
    "pycharm": {
     "name": "#%% md\n"
    }
   },
   "source": [
    "### The Zen of Python, [PEP 20](https://www.python.org/dev/peps/pep-0020/)\n",
    "\n",
    "```\n",
    "Beautiful is better than ugly.\n",
    "Explicit is better than implicit.\n",
    "Simple is better than complex.\n",
    "Complex is better than complicated.\n",
    "Flat is better than nested.\n",
    "Sparse is better than dense.\n",
    "Readability counts.\n",
    "Special cases aren't special enough to break the rules.\n",
    "Although practicality beats purity.\n",
    "Errors should never pass silently.\n",
    "Unless explicitly silenced.\n",
    "In the face of ambiguity, refuse the temptation to guess.\n",
    "There should be one-- and preferably only one --obvious way to do it.\n",
    "Although that way may not be obvious at first unless you're Dutch.\n",
    "Now is better than never.\n",
    "Although never is often better than *right* now.\n",
    "If the implementation is hard to explain, it's a bad idea.\n",
    "If the implementation is easy to explain, it may be a good idea.\n",
    "Namespaces are one honking great idea -- let's do more of those!\n",
    "```"
   ]
  },
  {
   "cell_type": "markdown",
   "metadata": {},
   "source": [
    "> Easter Egg: Try `import this` in [REPL](#REPL)"
   ]
  },
  {
   "cell_type": "markdown",
   "metadata": {},
   "source": [
    "### A Foolish Consistency is the Hobgoblin of Little Minds, [PEP 8](https://www.python.org/dev/peps/pep-0008/)"
   ]
  },
  {
   "cell_type": "markdown",
   "metadata": {},
   "source": [
    "PEP 8 gives coding conventions for the Python code comprising the standard library in the main Python distribution. While I would like to touch on all aspects of PEP 8 here, it would be better to read through the entirety on your own. The following section already covers an overwhelming amount of information for an introduction."
   ]
  },
  {
   "cell_type": "markdown",
   "metadata": {},
   "source": [
    "#### [Indentation](https://www.python.org/dev/peps/pep-0008/#indentation)\n",
    "  - Use 4 spaces per indentation level. \n",
    "  - Spaces are the preferred indentation method - *don't use tabs*\n",
    "  - When using a hanging indent:\n",
    "    - There should be no arguments on the first line.\n",
    "    - Further indentation should be used to clearly distinguish itself as a continuation line."
   ]
  },
  {
   "cell_type": "code",
   "execution_count": 3,
   "metadata": {
    "scrolled": true
   },
   "outputs": [
    {
     "name": "stdout",
     "output_type": "stream",
     "text": [
      "Enter the IP address or network CIDR you would like to scan: \n",
      "Example of accepted inputs: 192.168.50.54 or 172.16.20.128/25\n",
      ":: 192.168.1.9\n"
     ]
    }
   ],
   "source": [
    "ip_addr = input(\n",
    "    \"Enter the IP address or network CIDR you would like to scan: \\n\"\n",
    "    \"Example of accepted inputs: 192.168.50.54 or 172.16.20.128/25\\n\"\n",
    "    \":: \"\n",
    ")"
   ]
  },
  {
   "cell_type": "code",
   "execution_count": 4,
   "metadata": {},
   "outputs": [
    {
     "data": {
      "text/plain": [
       "'192.168.1.9'"
      ]
     },
     "execution_count": 4,
     "metadata": {},
     "output_type": "execute_result"
    }
   ],
   "source": [
    "ip_addr"
   ]
  },
  {
   "cell_type": "markdown",
   "metadata": {},
   "source": [
    "#### [Maximum Line Length](https://www.python.org/dev/peps/pep-0008/#maximum-line-length)\n",
    "  - Limit all lines to a maximum of 79 characters."
   ]
  },
  {
   "cell_type": "markdown",
   "metadata": {},
   "source": [
    "#### [Blank Lines](https://www.python.org/dev/peps/pep-0008/#blank-lines)\n",
    "  - Surround top-level function and class definitions with two blank lines.\n",
    "  - Method definitions inside a class are surrounded by a single blank line.\n",
    "  - Use blank lines in functions, sparingly, to indicate logical sections."
   ]
  },
  {
   "cell_type": "markdown",
   "metadata": {},
   "source": [
    "#### [Imports](https://www.python.org/dev/peps/pep-0008/#imports)\n",
    "  - Imports should usually be on separate lines.\n",
    "  - Imports are always put at the top of the file, just after any module comments and docstrings, and before module globals and constants.\n",
    "  - Imports should be grouped in the following order:\n",
    "    1. Standard library imports.\n",
    "    2. Related third party imports.\n",
    "    3. Local application/library specific imports.\n",
    "  - You should put a blank line between each group of imports.\n",
    "  - Absolute imports are recommended\n",
    "  - Wildcard imports `from <module> import *` should be avoided - *just don't*"
   ]
  },
  {
   "cell_type": "markdown",
   "metadata": {},
   "source": [
    "#### [String Quotes](https://www.python.org/dev/peps/pep-0008/#string-quotes)\n",
    "  - In Python, single-quoted strings and double-quoted strings are the same - use in pairs\n",
    "  - Pick a rule and stick to it.\n",
    "  - When a string contains single or double quote characters, however, use the other one to avoid backslashes in the string. It improves readability."
   ]
  },
  {
   "cell_type": "markdown",
   "metadata": {},
   "source": [
    "#### [Whitespace in Expressions and Statements](https://www.python.org/dev/peps/pep-0008/#whitespace-in-expressions-and-statements)\n",
    "- Avoid extraneous whitespace in the following situations:\n",
    "  - Immediately inside parentheses, brackets or braces:\n",
    "    - Good: `asyncio.run(scanner(network=ip_addr, ports=port))`\n",
    "    - Bad:  `asyncio.run ( scanner ( network = ip_addr, ports = port ) )`\n",
    "  - Between a trailing comma and a following close parenthesis:\n",
    "    - Good: `foo = (0,)`\n",
    "    - Bad:  `bar = (0, )`\n",
    "  - Immediately before a comma, semicolon, or colon:\n",
    "    - Good: `if cmd == 's':`\n",
    "    - Bad:  `if cmd == 's' :`\n",
    "  - Immediately before the open parenthesis that starts the argument list of a function call:\n",
    "    - Good: `print_header()`\n",
    "    - Bad:  `print_header ()`\n",
    "  - More than one space around an assignment (or other) operator to align it with another."
   ]
  },
  {
   "cell_type": "markdown",
   "metadata": {},
   "source": [
    "#### When to Use Trailing Commas\n",
    "- When making a tuple of one element\n",
    "- When a list of values, arguments or imported items is expected to be extended over time it is useful for version control systems"
   ]
  },
  {
   "cell_type": "code",
   "execution_count": 5,
   "metadata": {},
   "outputs": [],
   "source": [
    "my_dict = {\n",
    "    '1': 'foo',\n",
    "    '2': 'bar',\n",
    "    '3': 'baz',\n",
    "}"
   ]
  },
  {
   "cell_type": "markdown",
   "metadata": {},
   "source": [
    "#### Naming Conventions\n",
    "\n",
    "- `_single_leading_underscore`: weak \"internal use\" indicator. E.g. `from M import *` does not import objects whose names start with an underscore.\n",
    "\n",
    "- `single_trailing_underscore_`: used by convention to avoid conflicts with Python keyword, e.g. `Tkinter.Toplevel(master, class_='ClassName')`\n",
    "\n",
    "- `__double_leading_underscore`: when naming a class attribute, invokes name mangling (inside `class FooBar`, `__boo` becomes `_FooBar__boo`; see below).\n",
    "\n",
    "- `__double_leading_and_trailing_underscore__`: \"magic\" objects or attributes that live in user-controlled namespaces. E.g. `__init__`, `__import__` or `__file__`. Never invent such names; only use them as documented.\n"
   ]
  },
  {
   "cell_type": "markdown",
   "metadata": {},
   "source": [
    "## REPL"
   ]
  },
  {
   "cell_type": "markdown",
   "metadata": {},
   "source": [
    "## Everything is an Object"
   ]
  },
  {
   "cell_type": "markdown",
   "metadata": {},
   "source": [
    "Class | Description | Immutable?\n",
    "----- | ----------- | ----------\n",
    "bool | Boolean value | X\n",
    "int | Integer | X\n",
    "float | Floating-point number | X\n",
    "list | Mutable sequence of objects | \n",
    "tuple | Immutable sequence of objects | X\n",
    "str | Character string | X\n",
    "set | Unordered set of distinct objects | \n",
    "frozenset | Immutable form of set class | X\n",
    "dict | Associative mapping (aka dictionary) | "
   ]
  },
  {
   "cell_type": "markdown",
   "metadata": {},
   "source": [
    "### What the heck is an object?"
   ]
  },
  {
   "cell_type": "markdown",
   "metadata": {},
   "source": [
    "### What does that mean?"
   ]
  },
  {
   "cell_type": "markdown",
   "metadata": {},
   "source": [
    "What we might think of as a variable, instead think of it as a **name**.\n",
    "\n",
    "`<name> = <object>`\n",
    "\n",
    "We are actually binding a **name** to an **object**. One implication of this is that multiple names can be bound to a single object."
   ]
  },
  {
   "cell_type": "code",
   "execution_count": 1,
   "metadata": {
    "pycharm": {
     "is_executing": false
    }
   },
   "outputs": [],
   "source": [
    "a = \"security\""
   ]
  },
  {
   "cell_type": "code",
   "execution_count": 3,
   "metadata": {},
   "outputs": [],
   "source": [
    "b = \"security\""
   ]
  },
  {
   "cell_type": "markdown",
   "metadata": {},
   "source": [
    "To determine the type of an object, you can use the built-in method `type()`"
   ]
  },
  {
   "cell_type": "code",
   "execution_count": 14,
   "metadata": {},
   "outputs": [],
   "source": [
    "type?"
   ]
  },
  {
   "cell_type": "code",
   "execution_count": 17,
   "metadata": {},
   "outputs": [
    {
     "data": {
      "text/plain": [
       "str"
      ]
     },
     "execution_count": 17,
     "metadata": {},
     "output_type": "execute_result"
    }
   ],
   "source": [
    "type(a)"
   ]
  },
  {
   "cell_type": "code",
   "execution_count": 18,
   "metadata": {},
   "outputs": [
    {
     "data": {
      "text/plain": [
       "str"
      ]
     },
     "execution_count": 18,
     "metadata": {},
     "output_type": "execute_result"
    }
   ],
   "source": [
    "type(b)"
   ]
  },
  {
   "cell_type": "markdown",
   "metadata": {},
   "source": [
    "`id()` returns the actual memory location where the object is stored."
   ]
  },
  {
   "cell_type": "code",
   "execution_count": 13,
   "metadata": {},
   "outputs": [],
   "source": [
    "id?"
   ]
  },
  {
   "cell_type": "code",
   "execution_count": 15,
   "metadata": {},
   "outputs": [
    {
     "data": {
      "text/plain": [
       "139958179509552"
      ]
     },
     "execution_count": 15,
     "metadata": {},
     "output_type": "execute_result"
    }
   ],
   "source": [
    "id(a)"
   ]
  },
  {
   "cell_type": "code",
   "execution_count": 16,
   "metadata": {},
   "outputs": [
    {
     "data": {
      "text/plain": [
       "139958179509552"
      ]
     },
     "execution_count": 16,
     "metadata": {},
     "output_type": "execute_result"
    }
   ],
   "source": [
    "id(b)"
   ]
  },
  {
   "cell_type": "code",
   "execution_count": 19,
   "metadata": {},
   "outputs": [
    {
     "data": {
      "text/plain": [
       "True"
      ]
     },
     "execution_count": 19,
     "metadata": {},
     "output_type": "execute_result"
    }
   ],
   "source": [
    "a is b"
   ]
  },
  {
   "cell_type": "markdown",
   "metadata": {},
   "source": [
    "Since `id(a) == id(b)`, we know that `a` and `b` both point to a single object, that resides in a single memory location."
   ]
  },
  {
   "cell_type": "markdown",
   "metadata": {},
   "source": [
    "##### A deeper look - Further Reading and References\n",
    "\n",
    "[Python: Everything is an Object, and Some Objects are Mutable](https://medium.com/@larmalade/python-everything-is-an-object-and-some-objects-are-mutable-4f55eb2b468b)\n",
    "\n",
    "[Python tuples: immutable but potentially changing](http://radar.oreilly.com/2014/10/python-tuples-immutable-but-potentially-changing.html)"
   ]
  },
  {
   "cell_type": "markdown",
   "metadata": {
    "pycharm": {
     "name": "#%% md\n"
    }
   },
   "source": [
    "## Data Types"
   ]
  },
  {
   "cell_type": "markdown",
   "metadata": {
    "pycharm": {
     "name": "#%% md\n"
    }
   },
   "source": [
    "### Strings"
   ]
  },
  {
   "cell_type": "markdown",
   "metadata": {
    "pycharm": {
     "name": "#%% md\n"
    }
   },
   "source": [
    "### Integers"
   ]
  },
  {
   "cell_type": "markdown",
   "metadata": {
    "pycharm": {
     "name": "#%% md\n"
    }
   },
   "source": [
    "### Floats"
   ]
  },
  {
   "cell_type": "markdown",
   "metadata": {
    "pycharm": {
     "name": "#%% md\n"
    }
   },
   "source": [
    "### Bools"
   ]
  },
  {
   "cell_type": "markdown",
   "metadata": {
    "pycharm": {
     "name": "#%% md\n"
    }
   },
   "source": [
    "## Operators\n"
   ]
  },
  {
   "cell_type": "markdown",
   "metadata": {
    "pycharm": {
     "name": "#%% md\n"
    }
   },
   "source": [
    "## Variables\n"
   ]
  },
  {
   "cell_type": "markdown",
   "metadata": {
    "pycharm": {
     "name": "#%% md\n"
    }
   },
   "source": [
    "## Expressions\n"
   ]
  },
  {
   "cell_type": "markdown",
   "metadata": {
    "pycharm": {
     "name": "#%% md\n"
    }
   },
   "source": [
    "## Functions"
   ]
  },
  {
   "cell_type": "code",
   "execution_count": 1,
   "metadata": {
    "pycharm": {
     "is_executing": false,
     "name": "#%%\n"
    }
   },
   "outputs": [],
   "source": [
    "def this_is_my_function(foo):\n",
    "    print(f\"{foo.upper()}!\")"
   ]
  },
  {
   "cell_type": "code",
   "execution_count": 3,
   "metadata": {
    "pycharm": {
     "is_executing": false,
     "name": "#%%\n"
    }
   },
   "outputs": [
    {
     "name": "stdout",
     "output_type": "stream",
     "text": [
      "BAR!\n"
     ]
    }
   ],
   "source": [
    "this_is_my_function(\"bar\")"
   ]
  }
 ],
 "metadata": {
  "kernelspec": {
   "display_name": "Python 3",
   "language": "python",
   "name": "python3"
  },
  "language_info": {
   "codemirror_mode": {
    "name": "ipython",
    "version": 3
   },
   "file_extension": ".py",
   "mimetype": "text/x-python",
   "name": "python",
   "nbconvert_exporter": "python",
   "pygments_lexer": "ipython3",
   "version": "3.7.3"
  },
  "pycharm": {
   "stem_cell": {
    "cell_type": "raw",
    "metadata": {
     "collapsed": false
    },
    "source": []
   }
  }
 },
 "nbformat": 4,
 "nbformat_minor": 1
}
