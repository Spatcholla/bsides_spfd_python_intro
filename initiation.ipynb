{
 "cells": [
  {
   "cell_type": "markdown",
   "metadata": {
    "collapsed": true,
    "pycharm": {
     "name": "#%% md\n"
    }
   },
   "source": [
    "# Python Initiation at BSidesSpfd 2019\n",
    "\n",
    "An **Opinionated** Introduction to the Python Programming Language\n",
    "\n",
    "By Spatcholla\n",
    "\n",
    "In truth, this is a curated collection of documentation, tutorials, etc... created to guide you through learning Python. To get the most out of the of this journey follow the examples, break them, enhance them, explore.\n",
    "\n",
    "I use the word **initiation** in two-fold. First, I want to welcome you the Python community; I have not met I finer group in my travels. Second, this the launch of a journey which around every bend is (frustration) an opportunity for learning and growth.\n",
    "\n",
    "My version of the ansnyc_tcp_scan.py program included is based on a fork of [0xpizza/async_tcp_scan.py](https://gist.github.com/0xpizza/dd5e005a0efeb1edfc939d3a409e22d9) by [emillynge/async_tcp_scan.py](https://gist.github.com/emillynge/1eee20e8429caece09774af7e5614d69)"
   ]
  },
  {
   "cell_type": "markdown",
   "metadata": {},
   "source": [
    "![Rabbit of Caerbannog](https://i.pinimg.com/736x/09/85/39/098539fbe4c31b7733c5126772636b18.jpg)"
   ]
  },
  {
   "cell_type": "markdown",
   "metadata": {},
   "source": [
    "## Style\n",
    ">\n",
    ">   \"A universal convention supplies all of maintainability, clarity, consistency, and a foundation for good programming  habits too. What it doesn't do is insist that you follow it against your will. That's Python!\"\n",
    ">\n",
    ">    —Tim Peters on comp.lang.python, 2001-06-16\n",
    ">"
   ]
  },
  {
   "cell_type": "markdown",
   "metadata": {
    "pycharm": {
     "name": "#%% md\n"
    }
   },
   "source": [
    "### The Zen of Python, [PEP 20](https://www.python.org/dev/peps/pep-0020/)\n",
    "\n",
    "```\n",
    "Beautiful is better than ugly.\n",
    "Explicit is better than implicit.\n",
    "Simple is better than complex.\n",
    "Complex is better than complicated.\n",
    "Flat is better than nested.\n",
    "Sparse is better than dense.\n",
    "Readability counts.\n",
    "Special cases aren't special enough to break the rules.\n",
    "Although practicality beats purity.\n",
    "Errors should never pass silently.\n",
    "Unless explicitly silenced.\n",
    "In the face of ambiguity, refuse the temptation to guess.\n",
    "There should be one-- and preferably only one --obvious way to do it.\n",
    "Although that way may not be obvious at first unless you're Dutch.\n",
    "Now is better than never.\n",
    "Although never is often better than *right* now.\n",
    "If the implementation is hard to explain, it's a bad idea.\n",
    "If the implementation is easy to explain, it may be a good idea.\n",
    "Namespaces are one honking great idea -- let's do more of those!\n",
    "```"
   ]
  },
  {
   "cell_type": "markdown",
   "metadata": {},
   "source": [
    "> Easter Egg: Try `import this` in [REPL](#REPL)"
   ]
  },
  {
   "cell_type": "markdown",
   "metadata": {},
   "source": [
    "### A Foolish Consistency is the Hobgoblin of Little Minds, [PEP 8](https://www.python.org/dev/peps/pep-0008/)"
   ]
  },
  {
   "cell_type": "markdown",
   "metadata": {},
   "source": [
    "PEP 8 gives coding conventions for the Python code comprising the standard library in the main Python distribution. While I would like to touch on all aspects of PEP 8 here, it would be better to read through the entirety on your own. The following section already covers an overwhelming amount of information for an introduction. Please note that most of the following  are guidlines not rules but your friends will like you better."
   ]
  },
  {
   "cell_type": "markdown",
   "metadata": {},
   "source": [
    "#### [Indentation](https://www.python.org/dev/peps/pep-0008/#indentation)\n",
    "  - Use 4 spaces per indentation level. \n",
    "  - Spaces are the preferred indentation method - *don't mix spaces and tabs*\n",
    "  - When using a hanging indent:\n",
    "    - There should be no arguments on the first line.\n",
    "    - Further indentation should be used to clearly distinguish itself as a continuation line."
   ]
  },
  {
   "cell_type": "markdown",
   "metadata": {},
   "source": [
    "#### [Maximum Line Length](https://www.python.org/dev/peps/pep-0008/#maximum-line-length)\n",
    "  - Limit all lines to a maximum of 79 characters."
   ]
  },
  {
   "cell_type": "markdown",
   "metadata": {},
   "source": [
    "#### [Blank Lines](https://www.python.org/dev/peps/pep-0008/#blank-lines)\n",
    "  - Surround top-level function and class definitions with two blank lines.\n",
    "  - Method definitions inside a class are surrounded by a single blank line.\n",
    "  - Use blank lines in functions, sparingly, to indicate logical sections."
   ]
  },
  {
   "cell_type": "markdown",
   "metadata": {},
   "source": [
    "#### [Imports](https://www.python.org/dev/peps/pep-0008/#imports)\n",
    "  - Imports should usually be on separate lines.\n",
    "  - Imports are always put at the top of the file, just after any module comments and docstrings, and before module globals and constants.\n",
    "  - Imports should be grouped in the following order:\n",
    "    1. Standard library imports.\n",
    "    2. Related third party imports.\n",
    "    3. Local application/library specific imports.\n",
    "  - You should put a blank line between each group of imports.\n",
    "  - Absolute imports are recommended\n",
    "  - Wildcard imports `from <module> import *` should be avoided - *just don't*"
   ]
  },
  {
   "cell_type": "markdown",
   "metadata": {},
   "source": [
    "#### [String Quotes](https://www.python.org/dev/peps/pep-0008/#string-quotes)\n",
    "  - In Python, single-quoted strings and double-quoted strings are the same - use in pairs\n",
    "  - Pick a rule and stick to it.\n",
    "  - When a string contains single or double quote characters, however, use the other one to avoid backslashes in the string. It improves readability."
   ]
  },
  {
   "cell_type": "markdown",
   "metadata": {},
   "source": [
    "#### [Whitespace in Expressions and Statements](https://www.python.org/dev/peps/pep-0008/#whitespace-in-expressions-and-statements)\n",
    "- Avoid extraneous whitespace in the following situations:\n",
    "  - Immediately inside parentheses, brackets or braces:\n",
    "    - Good: `asyncio.run(scanner(network=ip_addr, ports=port))`\n",
    "    - Bad:  `asyncio.run ( scanner ( network = ip_addr, ports = port ) )`\n",
    "  - Between a trailing comma and a following close parenthesis:\n",
    "    - Good: `foo = (0,)`\n",
    "    - Bad:  `bar = (0, )`\n",
    "  - Immediately before a comma, semicolon, or colon:\n",
    "    - Good: `if cmd == 's':`\n",
    "    - Bad:  `if cmd == 's' :`\n",
    "  - Immediately before the open parenthesis that starts the argument list of a function call:\n",
    "    - Good: `print_header()`\n",
    "    - Bad:  `print_header ()`\n",
    "  - More than one space around an assignment (or other) operator to align it with another."
   ]
  },
  {
   "cell_type": "markdown",
   "metadata": {},
   "source": [
    "#### [When to Use Trailing Commas](https://www.python.org/dev/peps/pep-0008/#when-to-use-trailing-commas)\n",
    "- When making a tuple of one element\n",
    "- When a list of values, arguments or imported items is expected to be extended over time it is useful for version control systems"
   ]
  },
  {
   "cell_type": "code",
   "execution_count": null,
   "metadata": {},
   "outputs": [],
   "source": [
    "my_dict = {\n",
    "    '1': 'foo',\n",
    "    '2': 'bar',\n",
    "    '3': 'baz',\n",
    "}"
   ]
  },
  {
   "cell_type": "markdown",
   "metadata": {},
   "source": [
    "#### [Naming Conventions](https://www.python.org/dev/peps/pep-0008/#naming-conventions)\n",
    "\n",
    "- `_single_leading_underscore`: weak \"internal use\" indicator. E.g. `from M import *` does not import objects whose names start with an underscore.\n",
    "\n",
    "- `single_trailing_underscore_`: used by convention to avoid conflicts with Python keyword, e.g. `Tkinter.Toplevel(master, class_='ClassName')`\n",
    "\n",
    "- `__double_leading_underscore`: when naming a class attribute, invokes name mangling (inside `class FooBar`, `__boo` becomes `_FooBar__boo`; see below).\n",
    "\n",
    "- `__double_leading_and_trailing_underscore__`: \"magic\" objects or attributes that live in user-controlled namespaces. E.g. `__init__`, `__import__` or `__file__`. Never invent such names; only use them as documented.\n",
    "\n",
    "Magic methods are awesome; learn more about them."
   ]
  },
  {
   "cell_type": "markdown",
   "metadata": {},
   "source": [
    "#### [Programming Recommendations](https://www.python.org/dev/peps/pep-0008/#programming-recommendations)\n",
    "Read this secction. Then go away. In a couple months come back and read it again."
   ]
  },
  {
   "cell_type": "markdown",
   "metadata": {},
   "source": [
    "### Documentation\n",
    "\n",
    "#### Docstring Conventions, [PEP 257](https://www.python.org/dev/peps/pep-0257/)\n",
    "\n",
    "A docstring is a string literal that occurs as the first statement in a module, function, class, or method definition. Such a docstring becomes the `__doc__` special attribute of that object.\n",
    "\n",
    "Follow this guide and you'll be golden:\n",
    "\n",
    "**[Example Google Style Python Docstrings](https://sphinxcontrib-napoleon.readthedocs.io/en/latest/example_google.html)**"
   ]
  },
  {
   "cell_type": "markdown",
   "metadata": {},
   "source": [
    "Also, use [Function Annotations](https://www.python.org/dev/peps/pep-0008/#function-annotations). They increase code understandability. I have enough trouble understanding my code with them let alone without."
   ]
  },
  {
   "cell_type": "markdown",
   "metadata": {},
   "source": [
    "*From a Linux machine try `pydoc str`*"
   ]
  },
  {
   "cell_type": "markdown",
   "metadata": {},
   "source": [
    "### [Black](https://github.com/python/black)\n",
    "That was lot to take in and we barely touched the surface. Now that you have an understanding of the structure, let me introduce you to Black.\n",
    "\n",
    "Black is the uncompromising Python code formatter. By using it, you agree to cede control over minutiae of hand-formatting. In return, Black gives you speed, determinism, and freedom from pycodestyle nagging about formatting. You will save time and mental energy for more important matters.\n",
    "\n",
    "Blackened code looks the same regardless of the project you're reading. Formatting becomes transparent after a while and you can focus on the content instead.\n",
    "\n",
    "Black makes code review faster by producing the smallest diffs possible."
   ]
  },
  {
   "cell_type": "markdown",
   "metadata": {},
   "source": [
    "## [REPL](https://realpython.com/interacting-with-python/#using-the-python-interpreter-interactively)\n",
    "\n",
    "A **read–eval–print loop (REPL)** is a simple, interactive computer programming environment that takes single user input (i.e., single expressions), evaluates (executes) them, and returns the result to the user; a program written in a REPL environment is executed piecewise\n",
    "\n",
    "- **R**eads the command you enter\n",
    "- **E**valuates and executes the command\n",
    "- **P**rints the output (if any) to the console\n",
    "- **L**oops back and repeats the process\n",
    "\n",
    "Use it, know it, love it."
   ]
  },
  {
   "cell_type": "markdown",
   "metadata": {
    "pycharm": {
     "name": "#%% md\n"
    }
   },
   "source": [
    "## Data Types"
   ]
  },
  {
   "cell_type": "markdown",
   "metadata": {},
   "source": [
    "The team at [Real Python](https://realpython.com) produce some of the most well written articles on Python. Which is why when talking about data types in python I am going to point to an article by John Sturtz."
   ]
  },
  {
   "cell_type": "markdown",
   "metadata": {},
   "source": [
    "### [Basic Data Types in Python](https://realpython.com/python-data-types/#reader-comments)"
   ]
  },
  {
   "cell_type": "markdown",
   "metadata": {
    "pycharm": {
     "name": "#%% md\n"
    }
   },
   "source": [
    "### Integers"
   ]
  },
  {
   "cell_type": "markdown",
   "metadata": {
    "pycharm": {
     "name": "#%% md\n"
    }
   },
   "source": [
    "### Strings"
   ]
  },
  {
   "cell_type": "markdown",
   "metadata": {
    "pycharm": {
     "name": "#%% md\n"
    }
   },
   "source": [
    "### Floats"
   ]
  },
  {
   "cell_type": "markdown",
   "metadata": {
    "pycharm": {
     "name": "#%% md\n"
    }
   },
   "source": [
    "### Bools"
   ]
  },
  {
   "cell_type": "markdown",
   "metadata": {
    "pycharm": {
     "name": "#%% md\n"
    }
   },
   "source": [
    "## Variables\n",
    "\n",
    "Back to John at [Real Python](https://realpython.com) for:"
   ]
  },
  {
   "cell_type": "markdown",
   "metadata": {},
   "source": [
    "#### [Variables in Python](https://realpython.com/python-variables/)"
   ]
  },
  {
   "cell_type": "markdown",
   "metadata": {},
   "source": [
    "#### Everything is an Object"
   ]
  },
  {
   "cell_type": "markdown",
   "metadata": {},
   "source": [
    "Class | Description | Immutable?\n",
    "----- | ----------- | ----------\n",
    "bool | Boolean value | X\n",
    "int | Integer | X\n",
    "float | Floating-point number | X\n",
    "list | Mutable sequence of objects | \n",
    "tuple | Immutable sequence of objects | X\n",
    "str | Character string | X\n",
    "set | Unordered set of distinct objects | \n",
    "frozenset | Immutable form of set class | X\n",
    "dict | Associative mapping (aka dictionary) | "
   ]
  },
  {
   "cell_type": "markdown",
   "metadata": {},
   "source": [
    "### What does that mean?"
   ]
  },
  {
   "cell_type": "markdown",
   "metadata": {},
   "source": [
    "Python is a highly object-oriented language. In fact, virtually every item of data in a Python program is an object of a specific type or class. What we might think of as a variable, instead think of it as a **name**.\n",
    "\n",
    "`<name> = <object>`\n",
    "\n",
    "We are actually binding a **name** to an **object**."
   ]
  },
  {
   "cell_type": "code",
   "execution_count": null,
   "metadata": {
    "pycharm": {
     "is_executing": false
    }
   },
   "outputs": [],
   "source": [
    "a_string = \"security\""
   ]
  },
  {
   "cell_type": "code",
   "execution_count": null,
   "metadata": {},
   "outputs": [],
   "source": [
    "b_string = \"security\""
   ]
  },
  {
   "cell_type": "markdown",
   "metadata": {},
   "source": [
    "To determine the type of an object, you can use the built-in method `type()`"
   ]
  },
  {
   "cell_type": "code",
   "execution_count": null,
   "metadata": {},
   "outputs": [],
   "source": [
    "type?"
   ]
  },
  {
   "cell_type": "code",
   "execution_count": null,
   "metadata": {},
   "outputs": [],
   "source": [
    "type(a_string)"
   ]
  },
  {
   "cell_type": "code",
   "execution_count": null,
   "metadata": {},
   "outputs": [],
   "source": [
    "type(b_string)"
   ]
  },
  {
   "cell_type": "markdown",
   "metadata": {},
   "source": [
    "`id()` returns the actual memory location where the object is stored."
   ]
  },
  {
   "cell_type": "code",
   "execution_count": null,
   "metadata": {},
   "outputs": [],
   "source": [
    "id?"
   ]
  },
  {
   "cell_type": "code",
   "execution_count": null,
   "metadata": {},
   "outputs": [],
   "source": [
    "id(a_string)"
   ]
  },
  {
   "cell_type": "code",
   "execution_count": null,
   "metadata": {},
   "outputs": [],
   "source": [
    "id(b_string)"
   ]
  },
  {
   "cell_type": "code",
   "execution_count": null,
   "metadata": {},
   "outputs": [],
   "source": [
    "a_string is b_string"
   ]
  },
  {
   "cell_type": "markdown",
   "metadata": {},
   "source": [
    "Since `id(a_string) == id(b_string)`, we know that `a_string` and `b_string` both point to a single object, that resides in a single memory location."
   ]
  },
  {
   "cell_type": "markdown",
   "metadata": {},
   "source": [
    "Let's try a similar script using a list instead of a string:"
   ]
  },
  {
   "cell_type": "code",
   "execution_count": null,
   "metadata": {},
   "outputs": [],
   "source": [
    "a_list = [1, 2, 3]"
   ]
  },
  {
   "cell_type": "code",
   "execution_count": null,
   "metadata": {},
   "outputs": [],
   "source": [
    "b_list = [1, 2, 3]"
   ]
  },
  {
   "cell_type": "code",
   "execution_count": null,
   "metadata": {},
   "outputs": [],
   "source": [
    "id(a_list)"
   ]
  },
  {
   "cell_type": "code",
   "execution_count": null,
   "metadata": {},
   "outputs": [],
   "source": [
    "id(b_list)"
   ]
  },
  {
   "cell_type": "code",
   "execution_count": null,
   "metadata": {},
   "outputs": [],
   "source": [
    "a_list is b_list"
   ]
  },
  {
   "cell_type": "markdown",
   "metadata": {},
   "source": [
    "Here we see that the objects `a_list` and `b_list` point to occupy different places in memory. Why did Python behave differently in this example? The difference is that a string is immutable, but a list is mutable."
   ]
  },
  {
   "cell_type": "markdown",
   "metadata": {},
   "source": [
    "If you wanted the the two names to point to the same object write the following:"
   ]
  },
  {
   "cell_type": "code",
   "execution_count": null,
   "metadata": {},
   "outputs": [],
   "source": [
    "b_list = a_list"
   ]
  },
  {
   "cell_type": "code",
   "execution_count": null,
   "metadata": {},
   "outputs": [],
   "source": [
    "id(a_list)"
   ]
  },
  {
   "cell_type": "code",
   "execution_count": null,
   "metadata": {},
   "outputs": [],
   "source": [
    "id(b_list)"
   ]
  },
  {
   "cell_type": "code",
   "execution_count": null,
   "metadata": {},
   "outputs": [],
   "source": [
    "b_list is a_list"
   ]
  },
  {
   "cell_type": "code",
   "execution_count": null,
   "metadata": {},
   "outputs": [],
   "source": [
    "a_list is b_list"
   ]
  },
  {
   "cell_type": "markdown",
   "metadata": {},
   "source": [
    "An immutable variable cannot be changed after it is created (with one caveat). If you wish to change an immutable variable, such as a string, you must create a new instance and bind the variable to the new instance. A mutable variable can be changed in place. Refer to the graph at the beginning of this article for a list of the Python data types, and whether they are mutable.\n",
    "\n",
    "**Caveat:** A tuple, which is immutable, can contain mutable elements such as a list ex: (1, 2, [3, 4, 5]) . The reference to the list within the tuple can remain unchanged, even if the contents of the list are modified. End of caveat."
   ]
  },
  {
   "cell_type": "markdown",
   "metadata": {},
   "source": [
    "#### Why Is This Important?!?"
   ]
  },
  {
   "cell_type": "markdown",
   "metadata": {},
   "source": [
    "Without a basic understanding of how Python works under the hood, will discover that your scripts don't behave as you expect."
   ]
  },
  {
   "cell_type": "code",
   "execution_count": null,
   "metadata": {},
   "outputs": [],
   "source": [
    "b_list.append(4)"
   ]
  },
  {
   "cell_type": "markdown",
   "metadata": {},
   "source": [
    "Did you want to change `a_list`?"
   ]
  },
  {
   "cell_type": "code",
   "execution_count": null,
   "metadata": {},
   "outputs": [],
   "source": [
    "a_list"
   ]
  },
  {
   "cell_type": "markdown",
   "metadata": {},
   "source": [
    "But wait what happens when we do something like this:"
   ]
  },
  {
   "cell_type": "code",
   "execution_count": null,
   "metadata": {},
   "outputs": [],
   "source": [
    "a_int = 9"
   ]
  },
  {
   "cell_type": "code",
   "execution_count": null,
   "metadata": {},
   "outputs": [],
   "source": [
    "id(a_int)"
   ]
  },
  {
   "cell_type": "code",
   "execution_count": null,
   "metadata": {},
   "outputs": [],
   "source": [
    "a_int = a_int + 12\n",
    "a_int"
   ]
  },
  {
   "cell_type": "code",
   "execution_count": null,
   "metadata": {},
   "outputs": [],
   "source": [
    "id(a_int)"
   ]
  },
  {
   "cell_type": "markdown",
   "metadata": {},
   "source": [
    "You said integers are immutable and cannot be changed!?!\n",
    "\n",
    "Correct. We are not changing the integer just simply pointed our name to a new object, a new location in memory.\n",
    "\n",
    "With a good mental model of Python objects you will be better able to debug your programs."
   ]
  },
  {
   "cell_type": "markdown",
   "metadata": {},
   "source": [
    "#### Namespaces and the Implications of Passing Mutable vs. Immutable Variables"
   ]
  },
  {
   "cell_type": "markdown",
   "metadata": {},
   "source": [
    "This will be covered in the [Functions](#functions) section. "
   ]
  },
  {
   "cell_type": "markdown",
   "metadata": {},
   "source": [
    "##### A deeper look - Further Reading and References\n",
    "\n",
    "[Python: Everything is an Object, and Some Objects are Mutable](https://medium.com/@larmalade/python-everything-is-an-object-and-some-objects-are-mutable-4f55eb2b468b)\n",
    "\n",
    "[Python tuples: immutable but potentially changing](http://radar.oreilly.com/2014/10/python-tuples-immutable-but-potentially-changing.html)"
   ]
  },
  {
   "cell_type": "markdown",
   "metadata": {
    "pycharm": {
     "name": "#%% md\n"
    }
   },
   "source": [
    "## [Operators and Expressions in Python](https://realpython.com/python-operators-expressions/)\n"
   ]
  },
  {
   "cell_type": "markdown",
   "metadata": {},
   "source": [
    "Yep, back to [Real Python](https://realpython.com)."
   ]
  },
  {
   "cell_type": "markdown",
   "metadata": {
    "pycharm": {
     "name": "#%% md\n"
    }
   },
   "source": [
    "## Functions"
   ]
  },
  {
   "cell_type": "code",
   "execution_count": null,
   "metadata": {},
   "outputs": [],
   "source": [
    "def foo(a):\n",
    "    a = \"baz\""
   ]
  },
  {
   "cell_type": "code",
   "execution_count": null,
   "metadata": {},
   "outputs": [],
   "source": [
    "b = \"bar\""
   ]
  },
  {
   "cell_type": "code",
   "execution_count": null,
   "metadata": {},
   "outputs": [],
   "source": [
    "foo(b)"
   ]
  },
  {
   "cell_type": "code",
   "execution_count": null,
   "metadata": {},
   "outputs": [],
   "source": [
    "b"
   ]
  },
  {
   "cell_type": "code",
   "execution_count": null,
   "metadata": {},
   "outputs": [],
   "source": []
  },
  {
   "cell_type": "code",
   "execution_count": null,
   "metadata": {
    "pycharm": {
     "is_executing": false,
     "name": "#%%\n"
    }
   },
   "outputs": [],
   "source": [
    "def this_is_my_function(foo):\n",
    "    print(f\"{foo.upper()}!\")"
   ]
  },
  {
   "cell_type": "code",
   "execution_count": null,
   "metadata": {
    "pycharm": {
     "is_executing": false,
     "name": "#%%\n"
    }
   },
   "outputs": [],
   "source": [
    "this_is_my_function(\"bar\")"
   ]
  },
  {
   "cell_type": "markdown",
   "metadata": {},
   "source": [
    "## Resources"
   ]
  },
  {
   "cell_type": "markdown",
   "metadata": {},
   "source": [
    "[python.org](https://www.python.org/)"
   ]
  },
  {
   "cell_type": "markdown",
   "metadata": {},
   "source": [
    "Real Python: [Introduction to Python](https://realpython.com/learning-paths/python3-introduction/)"
   ]
  },
  {
   "cell_type": "markdown",
   "metadata": {},
   "source": [
    "[PyBites](https://pybit.es/)"
   ]
  },
  {
   "cell_type": "markdown",
   "metadata": {},
   "source": [
    "[TalkPython](https://talkpython.fm/)"
   ]
  }
 ],
 "metadata": {
  "kernelspec": {
   "display_name": "Python 3",
   "language": "python",
   "name": "python3"
  },
  "language_info": {
   "codemirror_mode": {
    "name": "ipython",
    "version": 3
   },
   "file_extension": ".py",
   "mimetype": "text/x-python",
   "name": "python",
   "nbconvert_exporter": "python",
   "pygments_lexer": "ipython3",
   "version": "3.7.3"
  },
  "pycharm": {
   "stem_cell": {
    "cell_type": "raw",
    "metadata": {
     "collapsed": false
    },
    "source": []
   }
  }
 },
 "nbformat": 4,
 "nbformat_minor": 1
}
